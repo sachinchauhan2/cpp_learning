{
 "cells": [
  {
   "cell_type": "code",
   "execution_count": null,
   "id": "9983cc8f-7e95-4c56-9e10-e89aa5c39236",
   "metadata": {},
   "outputs": [],
   "source": [
    "#include <iostream>\n",
    "\n",
    "#include <fstream>\n",
    "#include <sstream>\n",
    "#include <vector>\n",
    "#include <algorithm>\n",
    "#include <chrono>"
   ]
  },
  {
   "cell_type": "code",
   "execution_count": 2,
   "id": "08eee20a-98ee-47ee-9d06-4d59673831b4",
   "metadata": {},
   "outputs": [],
   "source": [
    "using namespace std;"
   ]
  },
  {
   "cell_type": "code",
   "execution_count": 3,
   "id": "f57cb149-08b8-4da0-a8df-197d8ca3d6da",
   "metadata": {},
   "outputs": [],
   "source": [
    "struct OHLC{\n",
    "    string datetime;\n",
    "    double open;\n",
    "    double high;\n",
    "    double low;\n",
    "    double close;\n",
    "};"
   ]
  },
  {
   "cell_type": "code",
   "execution_count": 7,
   "id": "97fb8cd3-2c79-4b63-823f-3241f06150f7",
   "metadata": {},
   "outputs": [
    {
     "name": "stderr",
     "output_type": "stream",
     "text": [
      "\u001b[1minput_line_13:2:46: \u001b[0m\u001b[0;1;31merror: \u001b[0m\u001b[1mfunction definition is not allowed here\u001b[0m\n",
      " vector<OHLC> read_ohlc_data(string filename){\n",
      "\u001b[0;1;32m                                             ^\n",
      "\u001b[0m"
     ]
    },
    {
     "ename": "Interpreter Error",
     "evalue": "",
     "output_type": "error",
     "traceback": [
      "Interpreter Error: "
     ]
    }
   ],
   "source": [
    "vector<OHLC> read_ohlc_data(string filename){\n",
    "    vector<OHLC> ohlc_data;\n",
    "    ifstream infile(filename);\n",
    "    string line;\n",
    "    while (getline(infile,line)){\n",
    "        OHLC row;\n",
    "        stringstream ss(line);\n",
    "        getline(ss,row.datetime,',');\n",
    "        ss >> row.open >> row.high >> row.low >> row.close;\n",
    "        ohlc_data.push_back(row);\n",
    "    }\n",
    "}"
   ]
  },
  {
   "cell_type": "code",
   "execution_count": null,
   "id": "b3c36491-d363-4ca2-bde6-cc4d99fb1f9a",
   "metadata": {},
   "outputs": [],
   "source": []
  }
 ],
 "metadata": {
  "kernelspec": {
   "display_name": "C++17",
   "language": "C++17",
   "name": "xcpp17"
  },
  "language_info": {
   "codemirror_mode": "text/x-c++src",
   "file_extension": ".cpp",
   "mimetype": "text/x-c++src",
   "name": "c++",
   "version": "17"
  }
 },
 "nbformat": 4,
 "nbformat_minor": 5
}
