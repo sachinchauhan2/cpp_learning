{
 "cells": [
  {
   "cell_type": "code",
   "execution_count": 1,
   "id": "d416c1fd-8595-4336-ac36-ce55f6e530c3",
   "metadata": {},
   "outputs": [],
   "source": [
    "#include <iostream>"
   ]
  },
  {
   "cell_type": "markdown",
   "id": "72caa6ef-7ef7-4b4a-b29f-3364d6bacef8",
   "metadata": {},
   "source": [
    "#### Return r-value"
   ]
  },
  {
   "cell_type": "code",
   "execution_count": 3,
   "id": "60d7dab2-85c8-40e0-be78-2a6fb23103a8",
   "metadata": {},
   "outputs": [],
   "source": [
    "int add(int x,int y){\n",
    "    return x+y;\n",
    "}"
   ]
  },
  {
   "cell_type": "markdown",
   "id": "bbabc315-1ee3-4f47-b424-338793614c37",
   "metadata": {},
   "source": [
    "#### Return l-value "
   ]
  },
  {
   "cell_type": "code",
   "execution_count": 4,
   "id": "86d293d7-1094-42e9-abdf-e23af10c9db2",
   "metadata": {},
   "outputs": [],
   "source": [
    "int & Transform(int &x){\n",
    "    x*=x;\n",
    "    return x;\n",
    "}"
   ]
  },
  {
   "cell_type": "code",
   "execution_count": 6,
   "id": "7144114a-638a-4534-a2ed-1f3f53b82131",
   "metadata": {},
   "outputs": [],
   "source": [
    "int main(){\n",
    "    //x,y & z are l-value & 5 ,10,& 8 are r-values\n",
    "    \n",
    "    int x = 5;\n",
    "    int y = 10;\n",
    "    int z = 8;\n",
    "    \n",
    "    //expression return r-value\n",
    "    int result = (x+y)*z;\n",
    "        \n",
    "    //expression return l-value\n",
    "    ++x = 6;\n",
    "    \n",
    "    return 0;\n",
    "}"
   ]
  },
  {
   "cell_type": "markdown",
   "id": "0a51fc1b-145a-4597-b6e2-167cbdef5b1a",
   "metadata": {},
   "source": [
    "# every epression in c++ is either lvalue or rvalue expression"
   ]
  },
  {
   "cell_type": "markdown",
   "id": "306e0e9c-5b17-4cb0-a71e-d65d72a7efb7",
   "metadata": {},
   "source": [
    "`Lvalue:` if you can take address of expression then it is Lvalue, and they last extended period of time"
   ]
  },
  {
   "cell_type": "markdown",
   "id": "462521f2-4e14-40ca-9070-18561cfa24fe",
   "metadata": {},
   "source": [
    "`Rvalue:`Rvalue are such expression which you can't take address and they are temporary, they don't  exist after one line."
   ]
  },
  {
   "cell_type": "markdown",
   "id": "62eaf462-63b2-44d7-a550-942b3158cff9",
   "metadata": {},
   "source": [
    "### Examples"
   ]
  },
  {
   "cell_type": "code",
   "execution_count": 8,
   "id": "0332053e-1998-4856-a618-24ebf98ebcb0",
   "metadata": {},
   "outputs": [],
   "source": [
    "int x = 10; //x is lvalue and 10 is rvalue"
   ]
  },
  {
   "cell_type": "code",
   "execution_count": 9,
   "id": "30ed4fa5-d716-4a53-8153-fa5ff9efb594",
   "metadata": {},
   "outputs": [],
   "source": [
    "int a = 10, b = 20;"
   ]
  },
  {
   "cell_type": "code",
   "execution_count": 10,
   "id": "8c7f4e1f-9f80-42b9-bcaf-962a26383928",
   "metadata": {},
   "outputs": [],
   "source": [
    "int x = (a+b); //x is lvalue and (a+b) is rvalue "
   ]
  },
  {
   "cell_type": "code",
   "execution_count": 14,
   "id": "5242a55e-c6c9-4a07-b5ea-1127506cb998",
   "metadata": {},
   "outputs": [
    {
     "name": "stderr",
     "output_type": "stream",
     "text": [
      "\u001b[1minput_line_20:2:7: \u001b[0m\u001b[0;1;31merror: \u001b[0m\u001b[1mcannot initialize a variable of type 'int *' with an rvalue of type 'int'\u001b[0m\n",
      " int *p = (a+b); // Error : (a+b) is not lvalue\n",
      "\u001b[0;1;32m      ^   ~~~~~\n",
      "\u001b[0m"
     ]
    },
    {
     "ename": "Interpreter Error",
     "evalue": "",
     "output_type": "error",
     "traceback": [
      "Interpreter Error: "
     ]
    }
   ],
   "source": [
    "int *p = (a+b); // Error : (a+b) is not lvalue"
   ]
  },
  {
   "cell_type": "code",
   "execution_count": 20,
   "id": "455473c5-ba89-48e4-b54a-55cbf1e5bebe",
   "metadata": {},
   "outputs": [],
   "source": [
    "class Cat{};\n",
    "Cat c = Cat(); //Cat () is an rvalue"
   ]
  },
  {
   "cell_type": "code",
   "execution_count": 21,
   "id": "c275620b-0750-4e63-856d-88c0ffd5600c",
   "metadata": {},
   "outputs": [],
   "source": [
    "int square(int x) {return x*x;}"
   ]
  },
  {
   "cell_type": "code",
   "execution_count": 22,
   "id": "dc47acbe-1cfc-41e3-a5dd-c14012631ba8",
   "metadata": {},
   "outputs": [],
   "source": [
    "int sq= square(10);// square(10) is an rvalue"
   ]
  },
  {
   "cell_type": "code",
   "execution_count": null,
   "id": "a1a0e720-b7ea-415f-b4d7-30bb27d283c9",
   "metadata": {},
   "outputs": [],
   "source": []
  }
 ],
 "metadata": {
  "kernelspec": {
   "display_name": "C++17",
   "language": "C++17",
   "name": "xcpp17"
  },
  "language_info": {
   "codemirror_mode": "text/x-c++src",
   "file_extension": ".cpp",
   "mimetype": "text/x-c++src",
   "name": "c++",
   "version": "17"
  }
 },
 "nbformat": 4,
 "nbformat_minor": 5
}
